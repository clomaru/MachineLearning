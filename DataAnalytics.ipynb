{
 "cells": [
  {
   "cell_type": "markdown",
   "metadata": {
    "toc": true
   },
   "source": [
    "<h1>Table of Contents<span class=\"tocSkip\"></span></h1>\n",
    "<div class=\"toc\" style=\"margin-top: 1em;\"><ul class=\"toc-item\"><li><span><a href=\"#予測の手順\" data-toc-modified-id=\"予測の手順-1\"><span class=\"toc-item-num\">1&nbsp;&nbsp;</span>予測の手順</a></span></li><li><span><a href=\"#データ収集\" data-toc-modified-id=\"データ収集-2\"><span class=\"toc-item-num\">2&nbsp;&nbsp;</span>データ収集</a></span><ul class=\"toc-item\"><li><span><a href=\"#webアクセス\" data-toc-modified-id=\"webアクセス-2.1\"><span class=\"toc-item-num\">2.1&nbsp;&nbsp;</span>webアクセス</a></span></li><li><span><a href=\"#スクレイピング\" data-toc-modified-id=\"スクレイピング-2.2\"><span class=\"toc-item-num\">2.2&nbsp;&nbsp;</span>スクレイピング</a></span></li><li><span><a href=\"#Webアクセス&amp;スクレイピング\" data-toc-modified-id=\"Webアクセス&amp;スクレイピング-2.3\"><span class=\"toc-item-num\">2.3&nbsp;&nbsp;</span>Webアクセス&amp;スクレイピング</a></span></li></ul></li><li><span><a href=\"#基礎分析\" data-toc-modified-id=\"基礎分析-3\"><span class=\"toc-item-num\">3&nbsp;&nbsp;</span>基礎分析</a></span><ul class=\"toc-item\"><li><span><a href=\"#まずはじめに\" data-toc-modified-id=\"まずはじめに-3.1\"><span class=\"toc-item-num\">3.1&nbsp;&nbsp;</span>まずはじめに</a></span></li><li><span><a href=\"#データの種類\" data-toc-modified-id=\"データの種類-3.2\"><span class=\"toc-item-num\">3.2&nbsp;&nbsp;</span>データの種類</a></span><ul class=\"toc-item\"><li><span><a href=\"#ファイル形式の種類\" data-toc-modified-id=\"ファイル形式の種類-3.2.1\"><span class=\"toc-item-num\">3.2.1&nbsp;&nbsp;</span>ファイル形式の種類</a></span></li><li><span><a href=\"#データ型の種類\" data-toc-modified-id=\"データ型の種類-3.2.2\"><span class=\"toc-item-num\">3.2.2&nbsp;&nbsp;</span>データ型の種類</a></span></li><li><span><a href=\"#データの型\" data-toc-modified-id=\"データの型-3.2.3\"><span class=\"toc-item-num\">3.2.3&nbsp;&nbsp;</span>データの型</a></span><ul class=\"toc-item\"><li><span><a href=\"#数値に変換する\" data-toc-modified-id=\"数値に変換する-3.2.3.1\"><span class=\"toc-item-num\">3.2.3.1&nbsp;&nbsp;</span>数値に変換する</a></span></li></ul></li></ul></li><li><span><a href=\"#可視化\" data-toc-modified-id=\"可視化-3.3\"><span class=\"toc-item-num\">3.3&nbsp;&nbsp;</span>可視化</a></span><ul class=\"toc-item\"><li><span><a href=\"#変数が一つの時→ヒストグラムや箱ひげ図\" data-toc-modified-id=\"変数が一つの時→ヒストグラムや箱ひげ図-3.3.1\"><span class=\"toc-item-num\">3.3.1&nbsp;&nbsp;</span>変数が一つの時→ヒストグラムや箱ひげ図</a></span><ul class=\"toc-item\"><li><span><a href=\"#ヒストグラムの描画方法\" data-toc-modified-id=\"ヒストグラムの描画方法-3.3.1.1\"><span class=\"toc-item-num\">3.3.1.1&nbsp;&nbsp;</span>ヒストグラムの描画方法</a></span></li><li><span><a href=\"#箱ひげ図の描画方法\" data-toc-modified-id=\"箱ひげ図の描画方法-3.3.1.2\"><span class=\"toc-item-num\">3.3.1.2&nbsp;&nbsp;</span>箱ひげ図の描画方法</a></span></li></ul></li><li><span><a href=\"#２つの変数の関連を知りたい時→散布図、回帰直線、相関係数\" data-toc-modified-id=\"２つの変数の関連を知りたい時→散布図、回帰直線、相関係数-3.3.2\"><span class=\"toc-item-num\">3.3.2&nbsp;&nbsp;</span>２つの変数の関連を知りたい時→散布図、回帰直線、相関係数</a></span><ul class=\"toc-item\"><li><span><a href=\"#散布図の描画方法\" data-toc-modified-id=\"散布図の描画方法-3.3.2.1\"><span class=\"toc-item-num\">3.3.2.1&nbsp;&nbsp;</span>散布図の描画方法</a></span></li><li><span><a href=\"#相関係数\" data-toc-modified-id=\"相関係数-3.3.2.2\"><span class=\"toc-item-num\">3.3.2.2&nbsp;&nbsp;</span>相関係数</a></span></li><li><span><a href=\"#相関係数+散布図+ヒストグラム\" data-toc-modified-id=\"相関係数+散布図+ヒストグラム-3.3.2.3\"><span class=\"toc-item-num\">3.3.2.3&nbsp;&nbsp;</span>相関係数+散布図+ヒストグラム</a></span></li></ul></li><li><span><a href=\"#カーネル密度推定\" data-toc-modified-id=\"カーネル密度推定-3.3.3\"><span class=\"toc-item-num\">3.3.3&nbsp;&nbsp;</span>カーネル密度推定</a></span></li><li><span><a href=\"#その他便利な可視化\" data-toc-modified-id=\"その他便利な可視化-3.3.4\"><span class=\"toc-item-num\">3.3.4&nbsp;&nbsp;</span>その他便利な可視化</a></span></li></ul></li><li><span><a href=\"#データの前処理\" data-toc-modified-id=\"データの前処理-3.4\"><span class=\"toc-item-num\">3.4&nbsp;&nbsp;</span>データの前処理</a></span><ul class=\"toc-item\"><li><span><a href=\"#正規化\" data-toc-modified-id=\"正規化-3.4.1\"><span class=\"toc-item-num\">3.4.1&nbsp;&nbsp;</span>正規化</a></span><ul class=\"toc-item\"><li><span><a href=\"#標準化(z-score-normalization)\" data-toc-modified-id=\"標準化(z-score-normalization)-3.4.1.1\"><span class=\"toc-item-num\">3.4.1.1&nbsp;&nbsp;</span>標準化(z-score normalization)</a></span></li><li><span><a href=\"#min-max-normalization\" data-toc-modified-id=\"min-max-normalization-3.4.1.2\"><span class=\"toc-item-num\">3.4.1.2&nbsp;&nbsp;</span>min-max normalization</a></span></li></ul></li><li><span><a href=\"#RobustScaler\" data-toc-modified-id=\"RobustScaler-3.4.2\"><span class=\"toc-item-num\">3.4.2&nbsp;&nbsp;</span>RobustScaler</a></span></li><li><span><a href=\"#Normalize\" data-toc-modified-id=\"Normalize-3.4.3\"><span class=\"toc-item-num\">3.4.3&nbsp;&nbsp;</span>Normalize</a></span></li><li><span><a href=\"#マッピング、グループ化\" data-toc-modified-id=\"マッピング、グループ化-3.4.4\"><span class=\"toc-item-num\">3.4.4&nbsp;&nbsp;</span>マッピング、グループ化</a></span></li><li><span><a href=\"#ビニング(ビン分割)\" data-toc-modified-id=\"ビニング(ビン分割)-3.4.5\"><span class=\"toc-item-num\">3.4.5&nbsp;&nbsp;</span>ビニング(ビン分割)</a></span></li></ul></li><li><span><a href=\"#その他の基礎分析\" data-toc-modified-id=\"その他の基礎分析-3.5\"><span class=\"toc-item-num\">3.5&nbsp;&nbsp;</span>その他の基礎分析</a></span><ul class=\"toc-item\"><li><span><a href=\"#クロス集計\" data-toc-modified-id=\"クロス集計-3.5.1\"><span class=\"toc-item-num\">3.5.1&nbsp;&nbsp;</span>クロス集計</a></span></li></ul></li></ul></li><li><span><a href=\"#特徴量\" data-toc-modified-id=\"特徴量-4\"><span class=\"toc-item-num\">4&nbsp;&nbsp;</span>特徴量</a></span><ul class=\"toc-item\"><li><span><a href=\"#特徴量を作成\" data-toc-modified-id=\"特徴量を作成-4.1\"><span class=\"toc-item-num\">4.1&nbsp;&nbsp;</span>特徴量を作成</a></span><ul class=\"toc-item\"><li><span><a href=\"#ダミー変数(非正規化とも言う？)\" data-toc-modified-id=\"ダミー変数(非正規化とも言う？)-4.1.1\"><span class=\"toc-item-num\">4.1.1&nbsp;&nbsp;</span>ダミー変数(非正規化とも言う？)</a></span><ul class=\"toc-item\"><li><span><a href=\"#ダミー変数の種類\" data-toc-modified-id=\"ダミー変数の種類-4.1.1.1\"><span class=\"toc-item-num\">4.1.1.1&nbsp;&nbsp;</span>ダミー変数の種類</a></span></li></ul></li><li><span><a href=\"#Categorical型変換\" data-toc-modified-id=\"Categorical型変換-4.1.2\"><span class=\"toc-item-num\">4.1.2&nbsp;&nbsp;</span>Categorical型変換</a></span></li><li><span><a href=\"#分割\" data-toc-modified-id=\"分割-4.1.3\"><span class=\"toc-item-num\">4.1.3&nbsp;&nbsp;</span>分割</a></span></li><li><span><a href=\"#抽出\" data-toc-modified-id=\"抽出-4.1.4\"><span class=\"toc-item-num\">4.1.4&nbsp;&nbsp;</span>抽出</a></span></li><li><span><a href=\"#変換\" data-toc-modified-id=\"変換-4.1.5\"><span class=\"toc-item-num\">4.1.5&nbsp;&nbsp;</span>変換</a></span></li></ul></li><li><span><a href=\"#特徴量を選ぶ\" data-toc-modified-id=\"特徴量を選ぶ-4.2\"><span class=\"toc-item-num\">4.2&nbsp;&nbsp;</span>特徴量を選ぶ</a></span></li><li><span><a href=\"#解析\" data-toc-modified-id=\"解析-4.3\"><span class=\"toc-item-num\">4.3&nbsp;&nbsp;</span>解析</a></span><ul class=\"toc-item\"><li><span><a href=\"#散布図行列を描画\" data-toc-modified-id=\"散布図行列を描画-4.3.1\"><span class=\"toc-item-num\">4.3.1&nbsp;&nbsp;</span>散布図行列を描画</a></span></li></ul></li><li><span><a href=\"#1つのアプローチとして。\" data-toc-modified-id=\"1つのアプローチとして。-4.4\"><span class=\"toc-item-num\">4.4&nbsp;&nbsp;</span>1つのアプローチとして。</a></span></li><li><span><a href=\"#適当な予測値と実際の観測値の差分を見る\" data-toc-modified-id=\"適当な予測値と実際の観測値の差分を見る-4.5\"><span class=\"toc-item-num\">4.5&nbsp;&nbsp;</span>適当な予測値と実際の観測値の差分を見る</a></span></li></ul></li><li><span><a href=\"#欠損値,外れ値の扱い方\" data-toc-modified-id=\"欠損値,外れ値の扱い方-5\"><span class=\"toc-item-num\">5&nbsp;&nbsp;</span>欠損値,外れ値の扱い方</a></span><ul class=\"toc-item\"><li><span><a href=\"#欠損値があるかどうかの確認\" data-toc-modified-id=\"欠損値があるかどうかの確認-5.1\"><span class=\"toc-item-num\">5.1&nbsp;&nbsp;</span>欠損値があるかどうかの確認</a></span></li><li><span><a href=\"#リストワイズ削除\" data-toc-modified-id=\"リストワイズ削除-5.2\"><span class=\"toc-item-num\">5.2&nbsp;&nbsp;</span>リストワイズ削除</a></span></li><li><span><a href=\"#ペアワイズ削除\" data-toc-modified-id=\"ペアワイズ削除-5.3\"><span class=\"toc-item-num\">5.3&nbsp;&nbsp;</span>ペアワイズ削除</a></span></li><li><span><a href=\"#欠損値を補完する\" data-toc-modified-id=\"欠損値を補完する-5.4\"><span class=\"toc-item-num\">5.4&nbsp;&nbsp;</span>欠損値を補完する</a></span><ul class=\"toc-item\"><li><span><a href=\"#0埋め\" data-toc-modified-id=\"0埋め-5.4.1\"><span class=\"toc-item-num\">5.4.1&nbsp;&nbsp;</span>0埋め</a></span></li><li><span><a href=\"#平均値(平均代入法)、中央値で埋める\" data-toc-modified-id=\"平均値(平均代入法)、中央値で埋める-5.4.2\"><span class=\"toc-item-num\">5.4.2&nbsp;&nbsp;</span>平均値(平均代入法)、中央値で埋める</a></span></li><li><span><a href=\"#前後の値で埋める、\" data-toc-modified-id=\"前後の値で埋める、-5.4.3\"><span class=\"toc-item-num\">5.4.3&nbsp;&nbsp;</span>前後の値で埋める、</a></span></li><li><span><a href=\"#最も近い非欠損値で埋める\" data-toc-modified-id=\"最も近い非欠損値で埋める-5.4.4\"><span class=\"toc-item-num\">5.4.4&nbsp;&nbsp;</span>最も近い非欠損値で埋める</a></span></li><li><span><a href=\"#回帰代入法\" data-toc-modified-id=\"回帰代入法-5.4.5\"><span class=\"toc-item-num\">5.4.5&nbsp;&nbsp;</span>回帰代入法</a></span></li></ul></li></ul></li><li><span><a href=\"#画像データの扱い方\" data-toc-modified-id=\"画像データの扱い方-6\"><span class=\"toc-item-num\">6&nbsp;&nbsp;</span>画像データの扱い方</a></span><ul class=\"toc-item\"><li><span><a href=\"#ツール\" data-toc-modified-id=\"ツール-6.1\"><span class=\"toc-item-num\">6.1&nbsp;&nbsp;</span>ツール</a></span></li><li><span><a href=\"#トリミング、リサイズ\" data-toc-modified-id=\"トリミング、リサイズ-6.2\"><span class=\"toc-item-num\">6.2&nbsp;&nbsp;</span>トリミング、リサイズ</a></span></li><li><span><a href=\"#回転・反転\" data-toc-modified-id=\"回転・反転-6.3\"><span class=\"toc-item-num\">6.3&nbsp;&nbsp;</span>回転・反転</a></span></li><li><span><a href=\"#色調変換・色反転、ネガポジ反転\" data-toc-modified-id=\"色調変換・色反転、ネガポジ反転-6.4\"><span class=\"toc-item-num\">6.4&nbsp;&nbsp;</span>色調変換・色反転、ネガポジ反転</a></span></li><li><span><a href=\"#閾値処理（二値化)\" data-toc-modified-id=\"閾値処理（二値化)-6.5\"><span class=\"toc-item-num\">6.5&nbsp;&nbsp;</span>閾値処理（二値化)</a></span></li><li><span><a href=\"#マスキング\" data-toc-modified-id=\"マスキング-6.6\"><span class=\"toc-item-num\">6.6&nbsp;&nbsp;</span>マスキング</a></span></li><li><span><a href=\"#ぼかし(GaussianBlur)\" data-toc-modified-id=\"ぼかし(GaussianBlur)-6.7\"><span class=\"toc-item-num\">6.7&nbsp;&nbsp;</span>ぼかし(GaussianBlur)</a></span></li><li><span><a href=\"#ノイズ除去(cv2.fastNlMeansDenoisingColored())\" data-toc-modified-id=\"ノイズ除去(cv2.fastNlMeansDenoisingColored())-6.8\"><span class=\"toc-item-num\">6.8&nbsp;&nbsp;</span>ノイズ除去(cv2.fastNlMeansDenoisingColored())</a></span></li><li><span><a href=\"#膨張・収縮\" data-toc-modified-id=\"膨張・収縮-6.9\"><span class=\"toc-item-num\">6.9&nbsp;&nbsp;</span>膨張・収縮</a></span></li></ul></li><li><span><a href=\"#訓練データと教師データの分け方\" data-toc-modified-id=\"訓練データと教師データの分け方-7\"><span class=\"toc-item-num\">7&nbsp;&nbsp;</span>訓練データと教師データの分け方</a></span><ul class=\"toc-item\"><li><span><a href=\"#ホールド・アウト法\" data-toc-modified-id=\"ホールド・アウト法-7.1\"><span class=\"toc-item-num\">7.1&nbsp;&nbsp;</span>ホールド・アウト法</a></span></li><li><span><a href=\"#k-分割交差検証法(クロスバリデーション)\" data-toc-modified-id=\"k-分割交差検証法(クロスバリデーション)-7.2\"><span class=\"toc-item-num\">7.2&nbsp;&nbsp;</span>k-分割交差検証法(クロスバリデーション)</a></span></li><li><span><a href=\"#一個抜き交差検証(Leave-One-Out:LOO)\" data-toc-modified-id=\"一個抜き交差検証(Leave-One-Out:LOO)-7.3\"><span class=\"toc-item-num\">7.3&nbsp;&nbsp;</span>一個抜き交差検証(Leave-One-Out:LOO)</a></span></li></ul></li><li><span><a href=\"#機械学習をするにあたってどのモデルを使うか\" data-toc-modified-id=\"機械学習をするにあたってどのモデルを使うか-8\"><span class=\"toc-item-num\">8&nbsp;&nbsp;</span>機械学習をするにあたってどのモデルを使うか</a></span><ul class=\"toc-item\"><li><span><a href=\"#教師あり学習\" data-toc-modified-id=\"教師あり学習-8.1\"><span class=\"toc-item-num\">8.1&nbsp;&nbsp;</span>教師あり学習</a></span><ul class=\"toc-item\"><li><span><a href=\"#回帰\" data-toc-modified-id=\"回帰-8.1.1\"><span class=\"toc-item-num\">8.1.1&nbsp;&nbsp;</span>回帰</a></span></li><li><span><a href=\"#分類\" data-toc-modified-id=\"分類-8.1.2\"><span class=\"toc-item-num\">8.1.2&nbsp;&nbsp;</span>分類</a></span></li><li><span><a href=\"#ニューラルネット\" data-toc-modified-id=\"ニューラルネット-8.1.3\"><span class=\"toc-item-num\">8.1.3&nbsp;&nbsp;</span>ニューラルネット</a></span></li></ul></li><li><span><a href=\"#教師なし学習\" data-toc-modified-id=\"教師なし学習-8.2\"><span class=\"toc-item-num\">8.2&nbsp;&nbsp;</span>教師なし学習</a></span></li></ul></li><li><span><a href=\"#ハイパーパラメータの設定方法\" data-toc-modified-id=\"ハイパーパラメータの設定方法-9\"><span class=\"toc-item-num\">9&nbsp;&nbsp;</span>ハイパーパラメータの設定方法</a></span><ul class=\"toc-item\"><li><span><a href=\"#グリッドサーチ\" data-toc-modified-id=\"グリッドサーチ-9.1\"><span class=\"toc-item-num\">9.1&nbsp;&nbsp;</span>グリッドサーチ</a></span></li><li><span><a href=\"#グリッドサーチ＆クロスバリデーション\" data-toc-modified-id=\"グリッドサーチ＆クロスバリデーション-9.2\"><span class=\"toc-item-num\">9.2&nbsp;&nbsp;</span>グリッドサーチ＆クロスバリデーション</a></span><ul class=\"toc-item\"><li><span><a href=\"#グリッドサーチの結果を可視化する\" data-toc-modified-id=\"グリッドサーチの結果を可視化する-9.2.1\"><span class=\"toc-item-num\">9.2.1&nbsp;&nbsp;</span>グリッドサーチの結果を可視化する</a></span></li></ul></li></ul></li><li><span><a href=\"#評価関数\" data-toc-modified-id=\"評価関数-10\"><span class=\"toc-item-num\">10&nbsp;&nbsp;</span>評価関数</a></span><ul class=\"toc-item\"><li><span><a href=\"#RMSE\" data-toc-modified-id=\"RMSE-10.1\"><span class=\"toc-item-num\">10.1&nbsp;&nbsp;</span>RMSE</a></span></li><li><span><a href=\"#AUC\" data-toc-modified-id=\"AUC-10.2\"><span class=\"toc-item-num\">10.2&nbsp;&nbsp;</span>AUC</a></span></li><li><span><a href=\"#LogLoss\" data-toc-modified-id=\"LogLoss-10.3\"><span class=\"toc-item-num\">10.3&nbsp;&nbsp;</span>LogLoss</a></span></li><li><span><a href=\"#Accuracy\" data-toc-modified-id=\"Accuracy-10.4\"><span class=\"toc-item-num\">10.4&nbsp;&nbsp;</span>Accuracy</a></span></li><li><span><a href=\"#Precision\" data-toc-modified-id=\"Precision-10.5\"><span class=\"toc-item-num\">10.5&nbsp;&nbsp;</span>Precision</a></span></li><li><span><a href=\"#Recall\" data-toc-modified-id=\"Recall-10.6\"><span class=\"toc-item-num\">10.6&nbsp;&nbsp;</span>Recall</a></span></li><li><span><a href=\"#MAE\" data-toc-modified-id=\"MAE-10.7\"><span class=\"toc-item-num\">10.7&nbsp;&nbsp;</span>MAE</a></span></li><li><span><a href=\"#MAP@N\" data-toc-modified-id=\"MAP@N-10.8\"><span class=\"toc-item-num\">10.8&nbsp;&nbsp;</span>MAP@N</a></span></li><li><span><a href=\"#nDCG\" data-toc-modified-id=\"nDCG-10.9\"><span class=\"toc-item-num\">10.9&nbsp;&nbsp;</span>nDCG</a></span></li></ul></li><li><span><a href=\"#その他の評価\" data-toc-modified-id=\"その他の評価-11\"><span class=\"toc-item-num\">11&nbsp;&nbsp;</span>その他の評価</a></span><ul class=\"toc-item\"><li><span><a href=\"#残差分析\" data-toc-modified-id=\"残差分析-11.1\"><span class=\"toc-item-num\">11.1&nbsp;&nbsp;</span>残差分析</a></span><ul class=\"toc-item\"><li><span><a href=\"#残差とは\" data-toc-modified-id=\"残差とは-11.1.1\"><span class=\"toc-item-num\">11.1.1&nbsp;&nbsp;</span>残差とは</a></span></li><li><span><a href=\"#残差分析とは\" data-toc-modified-id=\"残差分析とは-11.1.2\"><span class=\"toc-item-num\">11.1.2&nbsp;&nbsp;</span>残差分析とは</a></span></li></ul></li><li><span><a href=\"#決定係数\" data-toc-modified-id=\"決定係数-11.2\"><span class=\"toc-item-num\">11.2&nbsp;&nbsp;</span>決定係数</a></span></li><li><span><a href=\"#F値\" data-toc-modified-id=\"F値-11.3\"><span class=\"toc-item-num\">11.3&nbsp;&nbsp;</span>F値</a></span></li></ul></li><li><span><a href=\"#よりよい精度を出すために\" data-toc-modified-id=\"よりよい精度を出すために-12\"><span class=\"toc-item-num\">12&nbsp;&nbsp;</span>よりよい精度を出すために</a></span><ul class=\"toc-item\"><li><span><a href=\"#過学習を回避する\" data-toc-modified-id=\"過学習を回避する-12.1\"><span class=\"toc-item-num\">12.1&nbsp;&nbsp;</span>過学習を回避する</a></span><ul class=\"toc-item\"><li><span><a href=\"#Dropout\" data-toc-modified-id=\"Dropout-12.1.1\"><span class=\"toc-item-num\">12.1.1&nbsp;&nbsp;</span>Dropout</a></span></li><li><span><a href=\"#正則化\" data-toc-modified-id=\"正則化-12.1.2\"><span class=\"toc-item-num\">12.1.2&nbsp;&nbsp;</span>正則化</a></span></li></ul></li><li><span><a href=\"#アンサンブル学習\" data-toc-modified-id=\"アンサンブル学習-12.2\"><span class=\"toc-item-num\">12.2&nbsp;&nbsp;</span>アンサンブル学習</a></span><ul class=\"toc-item\"><li><span><a href=\"#バギング\" data-toc-modified-id=\"バギング-12.2.1\"><span class=\"toc-item-num\">12.2.1&nbsp;&nbsp;</span>バギング</a></span></li><li><span><a href=\"#ブースティング\" data-toc-modified-id=\"ブースティング-12.2.2\"><span class=\"toc-item-num\">12.2.2&nbsp;&nbsp;</span>ブースティング</a></span></li><li><span><a href=\"#スタッキング\" data-toc-modified-id=\"スタッキング-12.2.3\"><span class=\"toc-item-num\">12.2.3&nbsp;&nbsp;</span>スタッキング</a></span></li></ul></li></ul></li><li><span><a href=\"#結果と因果関係に関して\" data-toc-modified-id=\"結果と因果関係に関して-13\"><span class=\"toc-item-num\">13&nbsp;&nbsp;</span>結果と因果関係に関して</a></span></li><li><span><a href=\"#そのたメモ\" data-toc-modified-id=\"そのたメモ-14\"><span class=\"toc-item-num\">14&nbsp;&nbsp;</span>そのたメモ</a></span><ul class=\"toc-item\"><li><span><a href=\"#交差検定\" data-toc-modified-id=\"交差検定-14.1\"><span class=\"toc-item-num\">14.1&nbsp;&nbsp;</span>交差検定</a></span></li></ul></li><li><span><a href=\"#データ分析に用いられるスキル、ツールなど\" data-toc-modified-id=\"データ分析に用いられるスキル、ツールなど-15\"><span class=\"toc-item-num\">15&nbsp;&nbsp;</span>データ分析に用いられるスキル、ツールなど</a></span><ul class=\"toc-item\"><li><span><a href=\"#DataUnderstanging~DataPreparationフェーズ\" data-toc-modified-id=\"DataUnderstanging~DataPreparationフェーズ-15.1\"><span class=\"toc-item-num\">15.1&nbsp;&nbsp;</span>DataUnderstanging~DataPreparationフェーズ</a></span></li><li><span><a href=\"#Modeling~Evaluation\" data-toc-modified-id=\"Modeling~Evaluation-15.2\"><span class=\"toc-item-num\">15.2&nbsp;&nbsp;</span>Modeling~Evaluation</a></span></li></ul></li><li><span><a href=\"#Pyper\" data-toc-modified-id=\"Pyper-16\"><span class=\"toc-item-num\">16&nbsp;&nbsp;</span>Pyper</a></span></li><li><span><a href=\"#未読の参考書籍\" data-toc-modified-id=\"未読の参考書籍-17\"><span class=\"toc-item-num\">17&nbsp;&nbsp;</span>未読の参考書籍</a></span></li><li><span><a href=\"#本\" data-toc-modified-id=\"本-18\"><span class=\"toc-item-num\">18&nbsp;&nbsp;</span>本</a></span></li></ul></div>"
   ]
  },
  {
   "cell_type": "markdown",
   "metadata": {},
   "source": [
    "# 予測の手順\n",
    "\n",
    "1. データ収集\n",
    "2. データ加工\n",
    " - 異なるシステムのデータを統合\n",
    " - フィールド値の異なる型の統一\n",
    " - 欠損値、不正な値、または極端な値の定義\n",
    " - データの選択\n",
    " - 分析に必要な形式にデータを再構成\n",
    " - 関連フィールドを変換する\n",
    "3. 基礎分析をする\n",
    "4. 目的変数を決める\n",
    "5. データを可視化する\n",
    "6. 説明変数を決める(既存データにとらわれないように）\n",
    "7. 予測モデルを決定する\n",
    "8. 予測する\n",
    "9. 評価する\n",
    "10. 実装する"
   ]
  },
  {
   "cell_type": "code",
   "execution_count": 11,
   "metadata": {
    "collapsed": true
   },
   "outputs": [],
   "source": [
    "import pandas as pd\n",
    "train = pd.read_csv('train.csv')"
   ]
  },
  {
   "cell_type": "markdown",
   "metadata": {},
   "source": [
    "# データ収集\n",
    "\n",
    "- curl\n",
    "- wget\n",
    "\n",
    "## webアクセス\n",
    "- urllib\n",
    "- Mechanize\n",
    "- Selenium,WebDriver\n",
    "\n",
    "## スクレイピング\n",
    "- BeautifulSoup\n",
    "- lxml\n",
    "\n",
    "## Webアクセス&スクレイピング\n",
    "- import.io\n",
    "- scrapy"
   ]
  },
  {
   "cell_type": "markdown",
   "metadata": {},
   "source": [
    "# 基礎分析\n",
    "最初に基礎分析を必ず行う<br>\n",
    "コレを怠ると→\n",
    "- データが足りないことが後で発覚し今までの操作が無意味になる\n",
    "- 間違ったデータの混入に気づかずに現実とは異なる分析結果\n"
   ]
  },
  {
   "cell_type": "markdown",
   "metadata": {},
   "source": [
    "## まずはじめに\n",
    "\n",
    "データの情報を俯瞰してみておくと良い。"
   ]
  },
  {
   "cell_type": "code",
   "execution_count": null,
   "metadata": {
    "collapsed": true
   },
   "outputs": [],
   "source": [
    "# 要約統計量を見る(数値データのみ)\n",
    "train.describe()\n",
    "\n",
    "# 1カラム単体でも確認できる\n",
    "train.hoge.describe()\n",
    "\n",
    "# 各カラムの型を確認する\n",
    "train.info()\n",
    "\n",
    "# カラム一覧\n",
    "train.columns()"
   ]
  },
  {
   "cell_type": "markdown",
   "metadata": {},
   "source": [
    "## データの種類\n",
    "\n",
    "### ファイル形式の種類\n",
    "- CSV(Comma Separated Values)\n",
    "- TSV(Tab Separated Values)\n",
    "- SPSS\n",
    "- Oracle, SQL Server, MySQLなどのでDBファイル\n",
    "- Excel, Accessなどのアプリケーションファイル\n",
    "\n",
    "### データ型の種類\n",
    "https://www.codereading.com/statistics/level-of-measurement.html\n",
    "量的か、質的かとか\n",
    "\n",
    "- 連続型\n",
    " - 0~100などの整数、実数、日付、時間など数値の範囲を持つデータ型\n",
    "- カテゴリ型\n",
    " - 値の正確な個数が不明である場合や、文字列の値に対して使用されるもの、インスタンス化されていないものを含むデータ型\n",
    "- フラグ型\n",
    " - あり/なしや、0/1のように2つの値を持つデータ型\n",
    "- 名義型\n",
    " - 復数の値があり、それぞれが東/西/南/北のようなセットのカテゴリとして扱われる値に対して使用されるデータ型\n",
    "- 順序型\n",
    " - 少ない、普通、多いなどの固有の順序を持つ復数かつ個別のデータ型\n",
    " \n",
    " \n",
    " ### データの型\n",
    " #### 数値に変換する\n",
    " pd.to_numeric()"
   ]
  },
  {
   "cell_type": "markdown",
   "metadata": {},
   "source": [
    "## 可視化\n",
    "\n",
    "### 変数が一つの時→ヒストグラムや箱ひげ図\n",
    "ヒストグラム（正規分布型、二山型、右歪み型、左歪み型、絶壁型、高原型）\n"
   ]
  },
  {
   "cell_type": "markdown",
   "metadata": {},
   "source": [
    "#### ヒストグラムの描画方法\n",
    "sns,matplotlibなど\n",
    "- sns.distplot(df.hoge)\n",
    "\n",
    "#### 箱ひげ図の描画方法\n",
    "plt.boxplot()をつかう"
   ]
  },
  {
   "cell_type": "code",
   "execution_count": null,
   "metadata": {
    "collapsed": true
   },
   "outputs": [],
   "source": [
    "# 箱ひげ図：G1\n",
    "plt.boxplot(df.hoge)\n",
    "plt.grid(True)"
   ]
  },
  {
   "cell_type": "markdown",
   "metadata": {},
   "source": [
    "### ２つの変数の関連を知りたい時→散布図、回帰直線、相関係数"
   ]
  },
  {
   "cell_type": "markdown",
   "metadata": {},
   "source": [
    "#### 散布図の描画方法\n",
    "plt.scatterとか"
   ]
  },
  {
   "cell_type": "markdown",
   "metadata": {},
   "source": [
    "#### 相関係数\n",
    "\n",
    "可視化参考https://www.kaggle.com/takizawa/kaggle-tutorial-house-prices/notebook\n",
    "\n",
    "\n",
    "heatmapの色変更\n",
    "https://matplotlib.org/examples/color/colormaps_reference.html"
   ]
  },
  {
   "cell_type": "code",
   "execution_count": null,
   "metadata": {
    "collapsed": true
   },
   "outputs": [],
   "source": [
    "# 相関係数\n",
    "corrmat = df.corr()\n",
    "corrmat\n",
    "\n",
    "# 相関係数を用いてヒートマップを作成\n",
    "f, ax = plt.subplots(figsize=(12,9))\n",
    "sns.heatmap(corrmat, vmax=.8, square=True)\n"
   ]
  },
  {
   "cell_type": "code",
   "execution_count": null,
   "metadata": {
    "collapsed": true
   },
   "outputs": [],
   "source": [
    "# 目的変数hogeと相関係数の高い上位k個のヒートマップを作成\n",
    "k = 10\n",
    "cols = corrmat.nlargest(k, 'hoge')['hoge'].index\n",
    "# cols = corrmat.nlargest(all, 'SalePrice')['SalePrice'].index[-10:] # ワースト10個\n",
    "cm = np.corrcoef(train[cols].values.T)\n",
    "hm = sns.heatmap(cm, cbar=True, annot=True, square=True, fmt='.2f', annot_kws={'size':10}, cmap='bwr' \n",
    "                 yticklabels=cols.values, \n",
    "                 xticklabels=cols.values)\n",
    "plt.show()"
   ]
  },
  {
   "cell_type": "markdown",
   "metadata": {},
   "source": [
    "#### 相関係数+散布図+ヒストグラム\n",
    "\n",
    "可視化参考https://www.kaggle.com/takizawa/kaggle-tutorial-house-prices/notebook\n",
    "- sns.pairplot()"
   ]
  },
  {
   "cell_type": "markdown",
   "metadata": {},
   "source": [
    "### カーネル密度推定\n",
    "sns.FacetGrit()でグラフを重ねつつ、sns.kdeplot()でカーネル密度推定のグラフを描画"
   ]
  },
  {
   "cell_type": "markdown",
   "metadata": {},
   "source": [
    "### その他便利な可視化\n",
    "\n",
    "\n",
    "sns.countplot()\n",
    "\n",
    "udemyのmatplotlib,snsみる"
   ]
  },
  {
   "cell_type": "markdown",
   "metadata": {},
   "source": [
    "## データの前処理\n",
    "\n",
    "- Pythonではじめる機械学習のp.127とか\n",
    "- https://qiita.com/AfricaUmare/items/fbbbc6df11f78532932d\n"
   ]
  },
  {
   "cell_type": "markdown",
   "metadata": {},
   "source": [
    "### 正規化\n",
    "\n",
    "次元によって数値の単位がバラバラだったり、大きさが極端に異なっていると各次元を見比べた時にそれぞれの関係がわかりにくい。\n",
    "それらのスケールを揃えるために正規化をする。\n",
    "\n",
    "標準化とかの包括概念？\n",
    "https://deepage.net/features/numpy-normalize.html\n",
    "http://st-hakky.hatenablog.com/entry/2017/12/11/200046"
   ]
  },
  {
   "cell_type": "markdown",
   "metadata": {},
   "source": [
    "#### 標準化(z-score normalization)\n",
    "\n",
    "平均が0,分散が1となるように変換する\n",
    "外れ値のあるデータに対してはそれを無視するようなデータへ変換できるので、\n",
    "外れ値に対して効果的な手法といえる。←なんで？\n",
    "\n",
    "この処理をおこなる前提として、元のデータの分布が正規分布になっている必要がある。\n",
    "https://deepage.net/features/numpy-normalize.html"
   ]
  },
  {
   "cell_type": "code",
   "execution_count": 1,
   "metadata": {},
   "outputs": [
    {
     "ename": "NameError",
     "evalue": "name 'StandardScaler' is not defined",
     "output_type": "error",
     "traceback": [
      "\u001b[0;31m---------------------------------------------------------------------------\u001b[0m",
      "\u001b[0;31mNameError\u001b[0m                                 Traceback (most recent call last)",
      "\u001b[0;32m<ipython-input-1-c5b243c4a7eb>\u001b[0m in \u001b[0;36m<module>\u001b[0;34m()\u001b[0m\n\u001b[0;32m----> 1\u001b[0;31m \u001b[0mss\u001b[0m \u001b[0;34m=\u001b[0m \u001b[0mStandardScaler\u001b[0m\u001b[0;34m(\u001b[0m\u001b[0;34m)\u001b[0m\u001b[0;34m\u001b[0m\u001b[0m\n\u001b[0m\u001b[1;32m      2\u001b[0m \u001b[0mss\u001b[0m\u001b[0;34m.\u001b[0m\u001b[0mfit\u001b[0m\u001b[0;34m(\u001b[0m\u001b[0mtrainX\u001b[0m\u001b[0;34m)\u001b[0m\u001b[0;34m\u001b[0m\u001b[0m\n\u001b[1;32m      3\u001b[0m \u001b[0mtrainX\u001b[0m \u001b[0;34m=\u001b[0m \u001b[0mss\u001b[0m\u001b[0;34m.\u001b[0m\u001b[0mtransform\u001b[0m\u001b[0;34m(\u001b[0m\u001b[0mtrainX\u001b[0m\u001b[0;34m)\u001b[0m\u001b[0;34m\u001b[0m\u001b[0m\n",
      "\u001b[0;31mNameError\u001b[0m: name 'StandardScaler' is not defined"
     ]
    }
   ],
   "source": [
    "ss = StandardScaler()\n",
    "ss.fit(trainX)\n",
    "trainX = ss.transform(trainX)"
   ]
  },
  {
   "cell_type": "markdown",
   "metadata": {},
   "source": [
    "#### min-max normalization\n",
    "\n",
    "データの最大値と最小値を使って正規化する方法\n",
    "この処理によって、データは最大値が1,最小値が0のデータになる。\n",
    "予め最大値と最小値の範囲が限られている場合には有効な方法。\n",
    "外れ値があるとミスる可能性がある。→これがあると、極端な最大値や最小値にひっぱられてしまう\n",
    "\n",
    "データの分布が一様分布であることが条件？\n",
    "\n",
    "\n",
    "https://deepage.net/features/numpy-normalize.html"
   ]
  },
  {
   "cell_type": "markdown",
   "metadata": {},
   "source": [
    "### RobustScaler\n",
    "中央値と四分位数で変換。外れ値を無視できる変換方法"
   ]
  },
  {
   "cell_type": "markdown",
   "metadata": {},
   "source": [
    "### Normalize\n",
    "\n",
    "特徴量ベクトルがユークリッド長1になるように変換\n"
   ]
  },
  {
   "cell_type": "markdown",
   "metadata": {},
   "source": [
    "### マッピング、グループ化\n",
    "例えば47都道府県ごとのデータが有る時に\n",
    "そのデータに、新しいカラムを作り、関東、近畿、、、などにまとめる"
   ]
  },
  {
   "cell_type": "markdown",
   "metadata": {},
   "source": [
    "### ビニング(ビン分割)\n",
    "連続的な値を離散的な範囲に分割する\n",
    "例えば出生年を１０年毎に1990-2000生まれの人、2000-2010生まれの人、、、\n",
    "のようにまとめる"
   ]
  },
  {
   "cell_type": "code",
   "execution_count": null,
   "metadata": {
    "collapsed": true
   },
   "outputs": [],
   "source": [
    "# pandasでビニングする\n",
    "age_bining = pd.cut(train['age'], [0,20,30,40,50,60,100])"
   ]
  },
  {
   "cell_type": "markdown",
   "metadata": {},
   "source": [
    "## その他の基礎分析"
   ]
  },
  {
   "cell_type": "markdown",
   "metadata": {},
   "source": [
    "### クロス集計\n",
    "\n",
    "2変数に対して同時に集計する\n"
   ]
  },
  {
   "cell_type": "code",
   "execution_count": null,
   "metadata": {
    "collapsed": true
   },
   "outputs": [],
   "source": [
    "# pandasのpd.crosstab関数を使う\n",
    "# margins=Trueをしていすると統計値の絡むまで作成される\n",
    "pd.crosstab(train['a'], train['b'], margins=True)"
   ]
  },
  {
   "cell_type": "markdown",
   "metadata": {},
   "source": [
    "# 特徴量\n",
    "\n",
    "特徴量とは説明変数のこと\n",
    "- 特徴量を作成\n",
    "- 特徴量を選ぶ\n",
    "\n",
    "特徴量が多すぎると過学習するリスクが上がる"
   ]
  },
  {
   "cell_type": "markdown",
   "metadata": {},
   "source": [
    "\n",
    "## 特徴量を作成\n",
    "\n",
    "- ダミー変数\n",
    "- 分割\n",
    "- 抽出\n",
    "- 変換"
   ]
  },
  {
   "cell_type": "markdown",
   "metadata": {},
   "source": [
    "### ダミー変数(非正規化とも言う？)\n",
    "\n",
    "http://datanerd.hateblo.jp/entry/2017/09/10/215009\n",
    "\n",
    "1-of-K表現(one hot encoder)\n",
    "\n",
    "pandasのteg_dummies()を使う  \n",
    "\n",
    "これちょっと注意するべき点は、  \n",
    "trainとtestを両方get_dummies()したときに結果のカラム数が異なることがある。  \n",
    "よくよく考えれば自明だが、  \n",
    "例えばtrainのweekデータには月から金まで全てあったとして、  \n",
    "testの方にはたまたま月火木金しかない場合は、カラム数が異なってしまう。  "
   ]
  },
  {
   "cell_type": "code",
   "execution_count": 23,
   "metadata": {},
   "outputs": [
    {
     "data": {
      "text/html": [
       "<div>\n",
       "<style>\n",
       "    .dataframe thead tr:only-child th {\n",
       "        text-align: right;\n",
       "    }\n",
       "\n",
       "    .dataframe thead th {\n",
       "        text-align: left;\n",
       "    }\n",
       "\n",
       "    .dataframe tbody tr th {\n",
       "        vertical-align: top;\n",
       "    }\n",
       "</style>\n",
       "<table border=\"1\" class=\"dataframe\">\n",
       "  <thead>\n",
       "    <tr style=\"text-align: right;\">\n",
       "      <th></th>\n",
       "      <th>月</th>\n",
       "      <th>木</th>\n",
       "      <th>水</th>\n",
       "      <th>火</th>\n",
       "      <th>金</th>\n",
       "    </tr>\n",
       "  </thead>\n",
       "  <tbody>\n",
       "    <tr>\n",
       "      <th>0</th>\n",
       "      <td>1</td>\n",
       "      <td>0</td>\n",
       "      <td>0</td>\n",
       "      <td>0</td>\n",
       "      <td>0</td>\n",
       "    </tr>\n",
       "    <tr>\n",
       "      <th>1</th>\n",
       "      <td>0</td>\n",
       "      <td>0</td>\n",
       "      <td>0</td>\n",
       "      <td>1</td>\n",
       "      <td>0</td>\n",
       "    </tr>\n",
       "    <tr>\n",
       "      <th>2</th>\n",
       "      <td>0</td>\n",
       "      <td>0</td>\n",
       "      <td>1</td>\n",
       "      <td>0</td>\n",
       "      <td>0</td>\n",
       "    </tr>\n",
       "    <tr>\n",
       "      <th>3</th>\n",
       "      <td>0</td>\n",
       "      <td>1</td>\n",
       "      <td>0</td>\n",
       "      <td>0</td>\n",
       "      <td>0</td>\n",
       "    </tr>\n",
       "    <tr>\n",
       "      <th>4</th>\n",
       "      <td>0</td>\n",
       "      <td>0</td>\n",
       "      <td>0</td>\n",
       "      <td>0</td>\n",
       "      <td>1</td>\n",
       "    </tr>\n",
       "  </tbody>\n",
       "</table>\n",
       "</div>"
      ],
      "text/plain": [
       "   月  木  水  火  金\n",
       "0  1  0  0  0  0\n",
       "1  0  0  0  1  0\n",
       "2  0  0  1  0  0\n",
       "3  0  1  0  0  0\n",
       "4  0  0  0  0  1"
      ]
     },
     "execution_count": 23,
     "metadata": {},
     "output_type": "execute_result"
    }
   ],
   "source": [
    "train['week'].value_counts()\n",
    "pd.get_dummies(train['week']).head()"
   ]
  },
  {
   "cell_type": "markdown",
   "metadata": {},
   "source": [
    "#### ダミー変数の種類\n",
    "\n",
    "以下のようなダミー変数もあるっぽい\n",
    "http://www2.toyo.ac.jp/~mihira/keizaitoukei2014/08_production/dummy_slides.pdf\n",
    "- 定数項ダミー\n",
    "- 係数ダミー\n",
    "- 外れ値ダミー\n",
    "- 一時的ダミー\n",
    "\n"
   ]
  },
  {
   "cell_type": "markdown",
   "metadata": {},
   "source": [
    "### Categorical型変換\n",
    "https://qiita.com/TomokIshii/items/8acb138bd36e1b51b148  \n",
    "pandas.factorize()を使う"
   ]
  },
  {
   "cell_type": "markdown",
   "metadata": {},
   "source": [
    "### 分割\n",
    "もともとのデータの大きな単位のデータを分割する\n",
    "以下の例では年月日のデータを年と月に分割している"
   ]
  },
  {
   "cell_type": "code",
   "execution_count": 24,
   "metadata": {},
   "outputs": [
    {
     "data": {
      "text/html": [
       "<div>\n",
       "<style>\n",
       "    .dataframe thead tr:only-child th {\n",
       "        text-align: right;\n",
       "    }\n",
       "\n",
       "    .dataframe thead th {\n",
       "        text-align: left;\n",
       "    }\n",
       "\n",
       "    .dataframe tbody tr th {\n",
       "        vertical-align: top;\n",
       "    }\n",
       "</style>\n",
       "<table border=\"1\" class=\"dataframe\">\n",
       "  <thead>\n",
       "    <tr style=\"text-align: right;\">\n",
       "      <th></th>\n",
       "      <th>datetime</th>\n",
       "    </tr>\n",
       "  </thead>\n",
       "  <tbody>\n",
       "    <tr>\n",
       "      <th>0</th>\n",
       "      <td>2013-11-18</td>\n",
       "    </tr>\n",
       "    <tr>\n",
       "      <th>1</th>\n",
       "      <td>2013-11-19</td>\n",
       "    </tr>\n",
       "    <tr>\n",
       "      <th>2</th>\n",
       "      <td>2013-11-20</td>\n",
       "    </tr>\n",
       "    <tr>\n",
       "      <th>3</th>\n",
       "      <td>2013-11-21</td>\n",
       "    </tr>\n",
       "    <tr>\n",
       "      <th>4</th>\n",
       "      <td>2013-11-22</td>\n",
       "    </tr>\n",
       "  </tbody>\n",
       "</table>\n",
       "</div>"
      ],
      "text/plain": [
       "     datetime\n",
       "0  2013-11-18\n",
       "1  2013-11-19\n",
       "2  2013-11-20\n",
       "3  2013-11-21\n",
       "4  2013-11-22"
      ]
     },
     "execution_count": 24,
     "metadata": {},
     "output_type": "execute_result"
    }
   ],
   "source": [
    "train[['datetime']].head()"
   ]
  },
  {
   "cell_type": "code",
   "execution_count": 10,
   "metadata": {},
   "outputs": [
    {
     "data": {
      "text/html": [
       "<div>\n",
       "<style>\n",
       "    .dataframe thead tr:only-child th {\n",
       "        text-align: right;\n",
       "    }\n",
       "\n",
       "    .dataframe thead th {\n",
       "        text-align: left;\n",
       "    }\n",
       "\n",
       "    .dataframe tbody tr th {\n",
       "        vertical-align: top;\n",
       "    }\n",
       "</style>\n",
       "<table border=\"1\" class=\"dataframe\">\n",
       "  <thead>\n",
       "    <tr style=\"text-align: right;\">\n",
       "      <th></th>\n",
       "      <th>year</th>\n",
       "      <th>month</th>\n",
       "    </tr>\n",
       "  </thead>\n",
       "  <tbody>\n",
       "    <tr>\n",
       "      <th>0</th>\n",
       "      <td>2013</td>\n",
       "      <td>11</td>\n",
       "    </tr>\n",
       "    <tr>\n",
       "      <th>1</th>\n",
       "      <td>2013</td>\n",
       "      <td>11</td>\n",
       "    </tr>\n",
       "    <tr>\n",
       "      <th>2</th>\n",
       "      <td>2013</td>\n",
       "      <td>11</td>\n",
       "    </tr>\n",
       "    <tr>\n",
       "      <th>3</th>\n",
       "      <td>2013</td>\n",
       "      <td>11</td>\n",
       "    </tr>\n",
       "    <tr>\n",
       "      <th>4</th>\n",
       "      <td>2013</td>\n",
       "      <td>11</td>\n",
       "    </tr>\n",
       "  </tbody>\n",
       "</table>\n",
       "</div>"
      ],
      "text/plain": [
       "   year month\n",
       "0  2013    11\n",
       "1  2013    11\n",
       "2  2013    11\n",
       "3  2013    11\n",
       "4  2013    11"
      ]
     },
     "execution_count": 10,
     "metadata": {},
     "output_type": "execute_result"
    }
   ],
   "source": [
    "train['year'] = train['datetime'].apply(lambda x: x.split('-')[0])\n",
    "train['month'] = train['datetime'].apply(lambda x: x.split('-')[1])\n",
    "train[['year', 'month']].head()"
   ]
  },
  {
   "cell_type": "markdown",
   "metadata": {},
   "source": [
    "### 抽出\n",
    "一つのインデックスに対し複数の種類の要素がある中から一つの要素に注目して、\n",
    "その要素ならon,その要素でないならoffのように加工する"
   ]
  },
  {
   "cell_type": "code",
   "execution_count": null,
   "metadata": {
    "collapsed": true
   },
   "outputs": [],
   "source": [
    "train['remarks']\n",
    "\n",
    "# xの値が'tech'であるか否か\n",
    "def isTech(x):\n",
    "    if x == 'tech':\n",
    "        return 1\n",
    "    else:\n",
    "        return 0\n",
    "\n",
    "train['isTech'] = train['type'].apply(lambda x: isTech(x))"
   ]
  },
  {
   "cell_type": "markdown",
   "metadata": {},
   "source": [
    "### 変換\n",
    "\n",
    "データが数値でないものを数値に変える\n",
    "\n",
    "例えば降水量が0の時に'--'と表示されているデータを'0'に変更する"
   ]
  },
  {
   "cell_type": "code",
   "execution_count": 19,
   "metadata": {},
   "outputs": [
    {
     "data": {
      "text/html": [
       "<div>\n",
       "<style>\n",
       "    .dataframe thead tr:only-child th {\n",
       "        text-align: right;\n",
       "    }\n",
       "\n",
       "    .dataframe thead th {\n",
       "        text-align: left;\n",
       "    }\n",
       "\n",
       "    .dataframe tbody tr th {\n",
       "        vertical-align: top;\n",
       "    }\n",
       "</style>\n",
       "<table border=\"1\" class=\"dataframe\">\n",
       "  <thead>\n",
       "    <tr style=\"text-align: right;\">\n",
       "      <th></th>\n",
       "      <th>precipitation</th>\n",
       "    </tr>\n",
       "  </thead>\n",
       "  <tbody>\n",
       "    <tr>\n",
       "      <th>0</th>\n",
       "      <td>--</td>\n",
       "    </tr>\n",
       "    <tr>\n",
       "      <th>1</th>\n",
       "      <td>--</td>\n",
       "    </tr>\n",
       "    <tr>\n",
       "      <th>2</th>\n",
       "      <td>--</td>\n",
       "    </tr>\n",
       "    <tr>\n",
       "      <th>3</th>\n",
       "      <td>--</td>\n",
       "    </tr>\n",
       "    <tr>\n",
       "      <th>4</th>\n",
       "      <td>--</td>\n",
       "    </tr>\n",
       "  </tbody>\n",
       "</table>\n",
       "</div>"
      ],
      "text/plain": [
       "  precipitation\n",
       "0            --\n",
       "1            --\n",
       "2            --\n",
       "3            --\n",
       "4            --"
      ]
     },
     "execution_count": 19,
     "metadata": {},
     "output_type": "execute_result"
    }
   ],
   "source": [
    "train[['precipitation']].head()\n"
   ]
  },
  {
   "cell_type": "code",
   "execution_count": 22,
   "metadata": {},
   "outputs": [
    {
     "data": {
      "text/html": [
       "<div>\n",
       "<style>\n",
       "    .dataframe thead tr:only-child th {\n",
       "        text-align: right;\n",
       "    }\n",
       "\n",
       "    .dataframe thead th {\n",
       "        text-align: left;\n",
       "    }\n",
       "\n",
       "    .dataframe tbody tr th {\n",
       "        vertical-align: top;\n",
       "    }\n",
       "</style>\n",
       "<table border=\"1\" class=\"dataframe\">\n",
       "  <thead>\n",
       "    <tr style=\"text-align: right;\">\n",
       "      <th></th>\n",
       "      <th>precipitation</th>\n",
       "    </tr>\n",
       "  </thead>\n",
       "  <tbody>\n",
       "    <tr>\n",
       "      <th>0</th>\n",
       "      <td>0.0</td>\n",
       "    </tr>\n",
       "    <tr>\n",
       "      <th>1</th>\n",
       "      <td>0.0</td>\n",
       "    </tr>\n",
       "    <tr>\n",
       "      <th>2</th>\n",
       "      <td>0.0</td>\n",
       "    </tr>\n",
       "    <tr>\n",
       "      <th>3</th>\n",
       "      <td>0.0</td>\n",
       "    </tr>\n",
       "    <tr>\n",
       "      <th>4</th>\n",
       "      <td>0.0</td>\n",
       "    </tr>\n",
       "  </tbody>\n",
       "</table>\n",
       "</div>"
      ],
      "text/plain": [
       "   precipitation\n",
       "0            0.0\n",
       "1            0.0\n",
       "2            0.0\n",
       "3            0.0\n",
       "4            0.0"
      ]
     },
     "execution_count": 22,
     "metadata": {},
     "output_type": "execute_result"
    }
   ],
   "source": [
    "def toZero(x):\n",
    "    if x == '--':\n",
    "        return 0\n",
    "\n",
    "train['precipitation'] = train['precipitation'].apply(lambda x: toZero(x))\n",
    "train[['precipitation']].head()"
   ]
  },
  {
   "cell_type": "code",
   "execution_count": null,
   "metadata": {
    "collapsed": true
   },
   "outputs": [],
   "source": []
  },
  {
   "cell_type": "markdown",
   "metadata": {},
   "source": [
    "## 特徴量を選ぶ\n",
    "\n",
    "- 単変量解析\n",
    "ex)分散分析\n",
    "\n",
    "- モデルベース選択\n",
    "モデルにとっての各変数の重要度を算出し、取捨選択\n",
    "ex)ツリー系機械学習手法の重要度を見る\n",
    "\n",
    "- 反復選択\n",
    "特徴量を増減させながらモデルを生成し、良い特徴量を探索する\n",
    "    - ステップワイズ法\n",
    "    - 変数増加法(前進的選択法)\n",
    "    - 変数減少法(後退的選択法)\n",
    "    https://qiita.com/yossyyossy/items/ac6961ca5a0e765f56be#%E3%81%93%E3%81%93%E3%81%8B%E3%82%89%E9%87%8D%E5%9B%9E%E5%B8%B0\n",
    " \n"
   ]
  },
  {
   "cell_type": "markdown",
   "metadata": {},
   "source": [
    "## 解析\n"
   ]
  },
  {
   "cell_type": "markdown",
   "metadata": {},
   "source": [
    "### 散布図行列を描画\n",
    " 目的変数に対して、その他のデータの散布図をプロットして相関を視覚的に捉える"
   ]
  },
  {
   "cell_type": "code",
   "execution_count": 25,
   "metadata": {},
   "outputs": [
    {
     "data": {
      "image/png": "[encoded data removed]",
      "text/plain": [
       "<matplotlib.figure.Figure at 0x1081504a8>"
      ]
     },
     "metadata": {},
     "output_type": "display_data"
    }
   ],
   "source": [
    "import seaborn as sns\n",
    "import pandas as pd\n",
    "import matplotlib.pyplot as plt\n",
    "\n",
    "# df = pd.read_csv(\"iris.csv\")\n",
    "df = sns.load_dataset(\"iris\")  #手元にiris.csvがない場合\n",
    "\n",
    "#pairplot: 散布図行列を描く\n",
    "g = sns.pairplot(df,hue = \"species\",diag_kind=\"kde\")\n",
    "plt.show()"
   ]
  },
  {
   "cell_type": "markdown",
   "metadata": {},
   "source": [
    "## 1つのアプローチとして。\n",
    "一度全ての変数で重回帰して係数を確認する\n",
    "```\n",
    "# 新しいDataFrameを作ります。\n",
    "coeff_df = DataFrame(boston_df.columns)\n",
    "coeff_df.columns = ['Features']\n",
    "\n",
    "#求められた係数を代入します。\n",
    "coeff_df[\"Coefficient Estimate\"] = pd.Series(lreg.coef_)\n",
    "\n",
    "coeff_df\n",
    "```\n",
    "すると、どれが影響が大きいのかが確認できる"
   ]
  },
  {
   "cell_type": "markdown",
   "metadata": {},
   "source": [
    "## 適当な予測値と実際の観測値の差分を見る\n",
    "\n",
    "適当な説明変数を選んで予測した結果を元に実際の観測値との差分を見てみて、差の大きいものの特徴を捉える\n",
    "残差プロットとか？"
   ]
  },
  {
   "cell_type": "markdown",
   "metadata": {},
   "source": [
    "例えば以下のような方法。\n",
    "2乗していないので\n",
    "正数→0(理想)→負数\n",
    "のようになっているので、上の方や下の方を見てみる"
   ]
  },
  {
   "cell_type": "code",
   "execution_count": null,
   "metadata": {
    "collapsed": true
   },
   "outputs": [],
   "source": [
    "train['res'] = train['y'] - train['pred']\n",
    "train.sort_values(by=\"res\")"
   ]
  },
  {
   "cell_type": "markdown",
   "metadata": {},
   "source": [
    "# 欠損値,外れ値の扱い方\n",
    "\n",
    "データの値が外れている状況としては、標準偏差を使用して観察した値が分布の中心から遠い、分布の中心に近くても他の値から遠い。など。\n",
    "重要なのは、この基準に該当する場合でも、モデリングにしようするべきではないと、必ずしも言えないことである。\n",
    "モデル構築にどこまでの外れ値を採用するかは計画により異なり、それを決定するのはアウトプットの要請です。つまり、最終的に分析の示唆を反映する施策はどのようなユーザーをターゲットとしているのか、正価を実現するために効果的な分析対象の範囲はどこまでのなのか、と言う事象になる。\n",
    "\n",
    "\n",
    "\n",
    "\n",
    "- http://sinhrks.hatenablog.com/entry/2016/02/01/080859#%E6%AC%A0%E6%90%8D%E3%83%91%E3%82%BF%E3%83%BC%E3%83%B3%E3%81%AE%E5%8F%AF%E8%A6%96%E5%8C%96\n",
    "\n",
    "\n",
    "\n",
    "\n",
    "- https://note.nkmk.me/python-pandas-nan-dropna-fillna/"
   ]
  },
  {
   "cell_type": "markdown",
   "metadata": {},
   "source": [
    "## 欠損値があるかどうかの確認"
   ]
  },
  {
   "cell_type": "code",
   "execution_count": null,
   "metadata": {
    "collapsed": true
   },
   "outputs": [],
   "source": [
    "# DataFrameの場合\n",
    "train.isnull().sum()"
   ]
  },
  {
   "cell_type": "markdown",
   "metadata": {},
   "source": [
    "## リストワイズ削除\n",
    "\n",
    "データ欠損のある行をまるごと消去する。\n",
    "pandasのdropna()など"
   ]
  },
  {
   "cell_type": "markdown",
   "metadata": {},
   "source": [
    "## ペアワイズ削除\n",
    "欠損の少ない列だけを残す\n",
    "おなじくdropna()で。"
   ]
  },
  {
   "cell_type": "markdown",
   "metadata": {},
   "source": [
    "## 欠損値を補完する\n",
    "\n",
    "たとえば、そのデータの欠損値が「?」とかになってる場合\n",
    "hoge.replace('?', np.nan).dropna()\n",
    "とかで対応する。\n",
    "\n",
    "### 0埋め\n",
    "fillna(0)\n",
    "\n",
    "### 平均値(平均代入法)、中央値で埋める\n",
    "\n",
    "\n",
    "### 前後の値で埋める、\n",
    "前\n",
    "fillna(method='ffill')\n",
    "\n",
    "うしろ\n",
    "fillna(method='bfill')\n",
    "\n",
    "### 最も近い非欠損値で埋める\n",
    "\n",
    "\n",
    "\n",
    "### 回帰代入法\n",
    " - 欠損を持つ変数の値を回帰式を元に補完\n"
   ]
  },
  {
   "cell_type": "markdown",
   "metadata": {},
   "source": [
    "# 画像データの扱い方\n",
    "\n",
    "openCVなどを使う"
   ]
  },
  {
   "cell_type": "markdown",
   "metadata": {},
   "source": [
    "## ツール\n",
    "- OpenCV\n",
    "- PIL(Pillow)\n",
    "- scikit-image"
   ]
  },
  {
   "cell_type": "markdown",
   "metadata": {},
   "source": [
    "## トリミング、リサイズ\n",
    "## 回転・反転\n",
    "## 色調変換・色反転、ネガポジ反転\n",
    "## 閾値処理（二値化)\n",
    "## マスキング\n",
    "## ぼかし(GaussianBlur)\n",
    "## ノイズ除去(cv2.fastNlMeansDenoisingColored())\n",
    "## 膨張・収縮\n",
    "膨張と収縮は主に2値画像で行われます。あるピクセルを中心とし、フィルタ内の最大値をその中心の値にすることを膨張、逆に最小値をその中心の値にすることを収縮といいます"
   ]
  },
  {
   "cell_type": "markdown",
   "metadata": {},
   "source": [
    "# 訓練データと教師データの分け方"
   ]
  },
  {
   "cell_type": "markdown",
   "metadata": {},
   "source": [
    "## ホールド・アウト法\n",
    "\n",
    " - 単純な方法であるが欠点がある\n",
    " - データが大量にあれば有効\n",
    "\n",
    "- 与えられたデータセットをトレーニングデータとテストデータの二つに分割するシンプルな手法\n",
    " - 片方をモデル構築データ、残りをモデル検証データとする\n",
    " - よく使われるのは7:3\n",
    " - どこで分割するかで検証制度が大きく変わることもあり、不安定\n",
    "\n",
    "\n"
   ]
  },
  {
   "cell_type": "code",
   "execution_count": 1,
   "metadata": {},
   "outputs": [
    {
     "ename": "NameError",
     "evalue": "name 'train_test_split' is not defined",
     "output_type": "error",
     "traceback": [
      "\u001b[0;31m---------------------------------------------------------------------------\u001b[0m",
      "\u001b[0;31mNameError\u001b[0m                                 Traceback (most recent call last)",
      "\u001b[0;32m<ipython-input-1-39a521c00d03>\u001b[0m in \u001b[0;36m<module>\u001b[0;34m()\u001b[0m\n\u001b[1;32m      2\u001b[0m \u001b[0;31m# test_sizeにテストデータの割合を指定。0.2なら20%がテストデータになる\u001b[0m\u001b[0;34m\u001b[0m\u001b[0;34m\u001b[0m\u001b[0m\n\u001b[1;32m      3\u001b[0m \u001b[0;31m# random_stateはシードみたいなやつ\u001b[0m\u001b[0;34m\u001b[0m\u001b[0;34m\u001b[0m\u001b[0m\n\u001b[0;32m----> 4\u001b[0;31m \u001b[0mX_train\u001b[0m\u001b[0;34m,\u001b[0m \u001b[0mX_test\u001b[0m\u001b[0;34m,\u001b[0m \u001b[0my_train\u001b[0m\u001b[0;34m,\u001b[0m \u001b[0my_test\u001b[0m \u001b[0;34m=\u001b[0m \u001b[0mtrain_test_split\u001b[0m\u001b[0;34m(\u001b[0m\u001b[0mX\u001b[0m\u001b[0;34m,\u001b[0m \u001b[0my\u001b[0m\u001b[0;34m,\u001b[0m \u001b[0mtest_size\u001b[0m\u001b[0;34m=\u001b[0m\u001b[0mNUM\u001b[0m\u001b[0;34m,\u001b[0m \u001b[0mrandom_state\u001b[0m\u001b[0;34m=\u001b[0m\u001b[0;36m0\u001b[0m\u001b[0;34m)\u001b[0m\u001b[0;34m\u001b[0m\u001b[0m\n\u001b[0m",
      "\u001b[0;31mNameError\u001b[0m: name 'train_test_split' is not defined"
     ]
    }
   ],
   "source": [
    "# よくあるこのコードを使う\n",
    "# test_sizeにテストデータの割合を指定。0.2なら20%がテストデータになる\n",
    "# random_stateはシードみたいなやつ\n",
    "X_train, X_test, y_train, y_test = train_test_split(X, y, test_size=NUM, random_state=0)\n"
   ]
  },
  {
   "cell_type": "markdown",
   "metadata": {},
   "source": [
    "## k-分割交差検証法(クロスバリデーション)\n",
    "\n",
    "非復元抽出(一度抽出したデータをもとに戻すことのない抽出法)を用いて、 トレーニングデータセットをk分割し、そのうちのk-1個のデータを学習用のデータセットとして用い、残りの1個をモデルのテストに用いるといった手法\n",
    "\n",
    "結果として、k個のモデルとそのモデルに対する性能評価がk個得られるため、 k回の学習と評価を繰り返し、そのk個の性能評価の平均をとり、平均性能を算出する\n",
    "\n",
    "全ての組み合わせを試せるので、より安定した正確なモデル評価ができる。\n",
    "しかし、k回の学習と評価を行うのでホールド・アウト法よりもk倍の時間がかかる\n",
    "\n",
    "一般的にはkは5~10回\n",
    "\n",
    "- データをK個に分割し、検証をK回繰り返す\n",
    "- k-1個をモデル構築データとし、残り１個をモデル検証データとする\n",
    "- 上記を他の組み合わせでも行い、ｋ組の平均精度を元にパラメータを決定する\n",
    "\n",
    "- ホールド・アウトの欠点を補った手法\n",
    "- 計算に時間がかかる"
   ]
  },
  {
   "cell_type": "code",
   "execution_count": null,
   "metadata": {
    "collapsed": true
   },
   "outputs": [],
   "source": [
    "# http://scikit-learn.org/stable/modules/generated/sklearn.model_selection.cross_val_score.html\n",
    "scores = cross_validation.cross_val_score(svc, X, y, cv=5)"
   ]
  },
  {
   "cell_type": "markdown",
   "metadata": {},
   "source": [
    "## 一個抜き交差検証(Leave-One-Out:LOO)\n",
    "k分割交差検証法のうちの特別な手法。\n",
    "\n",
    "k分割交差検証法のうち、分割の個数をデータセットの数と同じにして、１行以外のデータセットで学習を行い、\n",
    "学習に使わなかった1行でモデルの精度評価を行う手法です。つまり、20行のデータがあったとしたら、19行で学習し、学習に使わなかった1行でテストを行う、という手法になり、合計20回の学習を行なったテスト結果の平均を取ることで精度を算出するのです。かなり小さいデータセット（例えばデータセットが50-100行以下）を扱う場合には、この手法が推奨されます。"
   ]
  },
  {
   "cell_type": "markdown",
   "metadata": {},
   "source": [
    "# 機械学習をするにあたってどのモデルを使うか\n",
    "\n",
    "\n",
    "モデリングは対話的なプロセスである。\n",
    "効果のある1つのモデル、あるいは復数のモデルの掛け合わせを見つけるまで、いくつかのモデリング手法を試行する。\n",
    "\n",
    "モデルめっちゃ載ってる参考記事\n",
    "https://qiita.com/tomomoto/items/b3fd1ec7f9b68ab6dfe2"
   ]
  },
  {
   "cell_type": "markdown",
   "metadata": {},
   "source": [
    "## 教師あり学習"
   ]
  },
  {
   "cell_type": "markdown",
   "metadata": {},
   "source": [
    "### 回帰\n",
    "\n",
    "数値を予想するもの\n",
    "\n",
    "- 単回帰分析\n",
    "- 重回帰分析\n",
    "- 回帰木"
   ]
  },
  {
   "cell_type": "markdown",
   "metadata": {},
   "source": [
    "### 分類\n",
    "\n",
    "カテゴリを予想するもの\n",
    "\n",
    "- ロジスティクス回帰\n",
    "- 分類木\n",
    " - C4.5(C5.0)\n",
    " - CART"
   ]
  },
  {
   "cell_type": "markdown",
   "metadata": {},
   "source": [
    "### ニューラルネット\n",
    "\n",
    "- NN\n",
    "- DNN\n",
    "- CNN\n",
    "- RNN\n"
   ]
  },
  {
   "cell_type": "markdown",
   "metadata": {},
   "source": [
    "## 教師なし学習\n",
    "\n",
    "- おすすめ商品のレコメンデーション\n",
    "- 多次元のデータを人間が可視化しやすいように圧縮\n",
    "- 主成分分析\n",
    "\n",
    "- 次元削減など\n",
    " - 情報を圧縮するために自然言語処理などの分野など\n",
    " \n",
    " 手法 (上2つはどこかの入れ子になるかも(未調べ）\n",
    "- Kohnen\n",
    "- TwoStep\n",
    "\n",
    "\n",
    "- 多次元尺度法(MDS)\n",
    "- クラスタリング\n",
    " - k-means\n",
    "- 主成分分析(PCA)\n",
    "- AutoEncoder\n",
    "- GAN"
   ]
  },
  {
   "cell_type": "markdown",
   "metadata": {},
   "source": [
    "# ハイパーパラメータの設定方法\n",
    "\n",
    "\n",
    "まとめる↓  \n",
    "http://s0sem0y.hatenablog.com/entry/2016/11/13/035443\n"
   ]
  },
  {
   "cell_type": "markdown",
   "metadata": {},
   "source": [
    "## グリッドサーチ\n",
    "\n",
    "- パラメータの範囲を指定し、その範囲をしらみつぶしに調べることで、最適なパラメータを探索することをグリッドサーチといいます\n",
    "- グリッドサーチ＋クロスバリデーションの組み合わせは良くパラメータ探索の方法として利用されます\n",
    "- まず探索するパラメータの範囲を表す変数parametersを作ります\n",
    "- この変数を作る時、\"カギ\"括弧ではなく、\"波\"括弧であることに注意して下さい\n",
    "- {\"パラメータの名前①\":[範囲], \"パラメータの名前②\":[範囲]...}のように書きます"
   ]
  },
  {
   "cell_type": "code",
   "execution_count": 2,
   "metadata": {},
   "outputs": [
    {
     "data": {
      "text/plain": [
       "{'max_depth': [2, 3, 4, 5, 6, 7, 8, 9, 10]}"
      ]
     },
     "execution_count": 2,
     "metadata": {},
     "output_type": "execute_result"
    }
   ],
   "source": [
    "parameters = {\"max_depth\":[2,3,4,5,6,7,8,9,10]}\n",
    "parameters = {\"max_depth\":list(range(2,11))}\n",
    "parameters"
   ]
  },
  {
   "cell_type": "markdown",
   "metadata": {},
   "source": [
    "## グリッドサーチ＆クロスバリデーション\n",
    "\n",
    "- GridSearchCV関数を使います\n",
    "- オプションとして、clf3, parameters, cv=5, scoring=\"roc_auc\",n_jobs=-1と書きます\n",
    "- グリッドサーチの結果は、変数gcvに代入しましょう\n",
    "- その後、fit関数を使って、探索をしましょう"
   ]
  },
  {
   "cell_type": "code",
   "execution_count": 3,
   "metadata": {},
   "outputs": [
    {
     "ename": "NameError",
     "evalue": "name 'clf3' is not defined",
     "output_type": "error",
     "traceback": [
      "\u001b[0;31m---------------------------------------------------------------------------\u001b[0m",
      "\u001b[0;31mNameError\u001b[0m                                 Traceback (most recent call last)",
      "\u001b[0;32m<ipython-input-3-d12cf1abbd1d>\u001b[0m in \u001b[0;36m<module>\u001b[0;34m()\u001b[0m\n\u001b[1;32m      1\u001b[0m \u001b[0;32mfrom\u001b[0m \u001b[0msklearn\u001b[0m\u001b[0;34m.\u001b[0m\u001b[0mmodel_selection\u001b[0m \u001b[0;32mimport\u001b[0m \u001b[0mGridSearchCV\u001b[0m\u001b[0;34m\u001b[0m\u001b[0m\n\u001b[0;32m----> 2\u001b[0;31m \u001b[0mgcv\u001b[0m \u001b[0;34m=\u001b[0m \u001b[0mGridSearchCV\u001b[0m\u001b[0;34m(\u001b[0m\u001b[0mclf3\u001b[0m\u001b[0;34m,\u001b[0m \u001b[0mparameters\u001b[0m\u001b[0;34m,\u001b[0m \u001b[0mcv\u001b[0m\u001b[0;34m=\u001b[0m\u001b[0;36m5\u001b[0m\u001b[0;34m,\u001b[0m \u001b[0mscoring\u001b[0m\u001b[0;34m=\u001b[0m\u001b[0;34m\"roc_auc\"\u001b[0m\u001b[0;34m,\u001b[0m \u001b[0mn_jobs\u001b[0m\u001b[0;34m=\u001b[0m\u001b[0;34m-\u001b[0m\u001b[0;36m1\u001b[0m\u001b[0;34m)\u001b[0m\u001b[0;34m\u001b[0m\u001b[0m\n\u001b[0m\u001b[1;32m      3\u001b[0m \u001b[0mgcv\u001b[0m\u001b[0;34m.\u001b[0m\u001b[0mfit\u001b[0m\u001b[0;34m(\u001b[0m\u001b[0mtrainX\u001b[0m\u001b[0;34m,\u001b[0m \u001b[0my\u001b[0m\u001b[0;34m)\u001b[0m\u001b[0;34m\u001b[0m\u001b[0m\n\u001b[1;32m      4\u001b[0m \u001b[0;34m\u001b[0m\u001b[0m\n\u001b[1;32m      5\u001b[0m \u001b[0;34m\u001b[0m\u001b[0m\n",
      "\u001b[0;31mNameError\u001b[0m: name 'clf3' is not defined"
     ]
    }
   ],
   "source": [
    "from sklearn.model_selection import GridSearchCV\n",
    "gcv = GridSearchCV(clf3, parameters, cv=5, scoring=\"roc_auc\", n_jobs=-1)\n",
    "gcv.fit(trainX, y)\n",
    "\n",
    "\n",
    "# 結果\n",
    "gcv.cv_results_\n",
    "\n",
    "# 結果の一分を表示\n",
    "train_score = gcv.cv_results_[\"mean_train_score\"]\n",
    "test_score = gcv.cv_results_[\"mean_test_score\"]\n",
    "\n",
    "\n",
    "\n",
    "# 予測\n",
    "pred = gcv.predict_proba(testX)"
   ]
  },
  {
   "attachments": {
    "%E3%82%BF%E3%82%99%E3%82%A6%E3%83%B3%E3%83%AD%E3%83%BC%E3%83%88%E3%82%99.png": {
     "image/png": "[encoded data removed]"
    }
   },
   "cell_type": "markdown",
   "metadata": {},
   "source": [
    "### グリッドサーチの結果を可視化する\n",
    "\n",
    "- x軸をmax_depth、y軸をaucとしてグラフを描きます\n",
    "- 何も設定しないとx軸は0からスタートとなり、実際の値とずれてしまうので、調整が必要です\n",
    "- 調整をする為には、plt.xticks([0,1],[2,3])のように書きます\n",
    "- 上記のオプションの意味は何もしない時に0のものを2とし、1のものを3とする、という意味になります\n",
    "- 今回はmax_depthを2～10まで調べたので9点あります\n",
    "\n",
    "\n",
    "\n",
    "\n",
    "青色のグラフがモデル構築データの、オレンジが検証データ。\n",
    "青はdepthを深くすればするほどフィットするようになるが、\n",
    "オレンジが下がっていくので過学習しているのがわかる。\n",
    "\n",
    "この図を見てどこが一番いいのかというとオレンジが最大値を取っている部分である。\n",
    "この図では６\n",
    "![%E3%82%BF%E3%82%99%E3%82%A6%E3%83%B3%E3%83%AD%E3%83%BC%E3%83%88%E3%82%99.png](attachment:%E3%82%BF%E3%82%99%E3%82%A6%E3%83%B3%E3%83%AD%E3%83%BC%E3%83%88%E3%82%99.png)"
   ]
  },
  {
   "cell_type": "code",
   "execution_count": null,
   "metadata": {
    "collapsed": true
   },
   "outputs": [],
   "source": [
    "# 可視化\n",
    "plt.plot(train_score)\n",
    "plt.plot(test_score)\n",
    "plt.xticks([0,1,2,3,4,5,6,7,8,9],[2,3,4,5,6,7,8,9,10])\n",
    "\n",
    "\n",
    "# ベスト結果を出力\n",
    "best_params_"
   ]
  },
  {
   "cell_type": "markdown",
   "metadata": {},
   "source": [
    "# 評価関数\n",
    "https://funatsu-lab.github.io/open-course-ware/basic-theory/accuracy-index/#rmse-mae-dif\n",
    "\n",
    "## RMSE\n",
    "\n",
    "RMSE = $\\sqrt{\\frac{1}{n}\\sum_{k=1}^{n}(f_{i} - y_{i})}$\n",
    "\n",
    "外れ値の影響が大きい  \n",
    "地域は0~?\n",
    "小さいほどいい  \n",
    "\n",
    "## AUC\n",
    "分類精度を測る\n",
    "ex)医療診断\n",
    "\n",
    "値域は0~1\n",
    "大きいほどいい\n",
    "\n",
    "## LogLoss\n",
    "分類精度を測る\n",
    "ex)画像分類\n",
    "\n",
    "値域は0~inf\n",
    "小さいほどいい\n",
    "\n",
    "## Accuracy\n",
    "分類精度を測る\n",
    "ex)画像分類\n",
    "\n",
    "値域は0~1\n",
    "大きいほどいい\n",
    "\n",
    "## Precision\n",
    "正確性を測る\n",
    "ex)検索エンジン\n",
    "\n",
    "値域は0~1\n",
    "大きいほどいい\n",
    "\n",
    "## Recall\n",
    "カバー率を測る\n",
    "ex)検索エンジン\n",
    "\n",
    "値域は0~1\n",
    "大きいほどいい\n",
    "\n",
    "## MAE\n",
    "誤差を測る\n",
    "ex)需要予測\n",
    "\n",
    "値域は0~inf\n",
    "小さいほどいい\n",
    "\n",
    "## MAP@N\n",
    "検出精度を測る\n",
    "ex)推薦エンジン\n",
    "\n",
    "値域は0~1\n",
    "大きいほどいい\n",
    "\n",
    "## nDCG\n",
    "ランキング精度を測る\n",
    "ex)推薦エンジン\n",
    "\n",
    "値域は0~1\n",
    "大きいほどいい\n"
   ]
  },
  {
   "cell_type": "markdown",
   "metadata": {},
   "source": [
    "# その他の評価\n",
    "\n",
    "\n",
    "- 残差分析（残差プロットや残差をヒストグラムで表示）\n",
    "- 決定係数\n",
    "- F値\n",
    "- 適合率/精度\n",
    "- 再現率\n",
    "- 混同行列\n",
    "- \n",
    "- \n",
    "- \n",
    "\n",
    "\n"
   ]
  },
  {
   "cell_type": "markdown",
   "metadata": {},
   "source": [
    "## 残差分析\n",
    "\n",
    "残差プロットというグラフを使って可視化する\n",
    "\n",
    "### 残差とは\n",
    "学習によって得られた回帰式（ほんまに？）から求められる値と、実際のデータとの差のこと。\n",
    "\n",
    "残渣の性質\n",
    "- 残渣の総和は0\n",
    "- 説明変数$ x_{i} $と残差$ e_{i} $ の積和は０\n",
    "\n",
    "### 残差分析とは\n",
    "横軸はデータの番号、縦軸は残差の値\n",
    "残差が縦軸「０」に対して（ほぼ）均一に分散しているのが理想\n",
    "残差プロットの中で他とは異なり大きく外れているのが小数ある場合それは外れ値である可能性がある。\n",
    "\n",
    "残差をヒストグラムにすることもある。\n",
    "→データが歪んでいるかどうか、外れ値があるかを判断\n",
    "\n",
    "モデルの性能を見る為の方法の一つ\n",
    "予測値と実際の観測値の差分を可視化する\n",
    "残差←観測データポイントから直線がどれくらい離れているか\n",
    "\n",
    "\n",
    "\n",
    "\n",
    "残差プロットの結果が良い感じのばらつきではないが、何か周期性のあるような分布になっている場合は、周期的な変動をする説明変数を用いたら良いかもしれない。\n",
    "→いずれにせよその推定された回帰式が妥当でない可能性が高い。\n"
   ]
  },
  {
   "cell_type": "markdown",
   "metadata": {},
   "source": [
    "## 決定係数\n",
    "\n"
   ]
  },
  {
   "cell_type": "markdown",
   "metadata": {},
   "source": [
    "## F値\n",
    "\n",
    "\n",
    "\n"
   ]
  },
  {
   "cell_type": "markdown",
   "metadata": {},
   "source": [
    "# よりよい精度を出すために"
   ]
  },
  {
   "cell_type": "markdown",
   "metadata": {},
   "source": [
    "## 過学習を回避する\n",
    "コンピュータがデータを学習しすぎる状態を、過学習と呼ぶのに対し、 データを学習できていない状態を学習不足 と呼びます。また、 過学習を起こしているモデルのことをバリアンスが高い と呼び、 学習不足を起こしているモデルのことをバイアスが高い と呼ぶことがあります。\n",
    "### Dropout\n",
    "学習時にランダムに一部のニューロン（特定の入力に対し、値を出力するもの）を消し去る手法です\n",
    "### 正則化\n",
    "簡単にいうと偏りがあるデータの影響をなくすことをさします。"
   ]
  },
  {
   "cell_type": "markdown",
   "metadata": {},
   "source": [
    "## アンサンブル学習\n",
    "\n",
    "復数のモデルに学習させることでデータの一般化を獲得しようとする試み"
   ]
  },
  {
   "cell_type": "markdown",
   "metadata": {},
   "source": [
    "### バギング\n",
    "復数のモデルを同時に学習させ、予測結果の平均を取ることで予測結果の汎化を試みる"
   ]
  },
  {
   "cell_type": "markdown",
   "metadata": {},
   "source": [
    "### ブースティング\n",
    "モデルの予測結果に対するモデルを作成し汎化性能を高める。\n",
    "### スタッキング"
   ]
  },
  {
   "cell_type": "markdown",
   "metadata": {},
   "source": [
    "# 結果と因果関係に関して\n",
    "\n",
    "何かの商品の売り上げYなどに関して、データ分析を行った結果、  \n",
    "Yに影響を与えるのはXだと推測し、XとYの間に因果関係があると推測できたとしても、  \n",
    "実は、そこにあるのはただの相関関係であり、因果関係であるとは限らない。  \n",
    "\n",
    "これを検証するためには、ABテストのようなランダム化比較試験(RCT)を行うと良い。  \n",
    "検証データを介入グループ(Xを適用させた方)と、比較グループ(何もしてない方)にランダムに分けて、検証する。  \n",
    "\n",
    "このランダムのわけかたにも「単純ランダム化法」と「層化ランダム化法」とある。\n"
   ]
  },
  {
   "cell_type": "markdown",
   "metadata": {},
   "source": [
    "# そのたメモ\n",
    "Pyper: pythonからRを呼び出す"
   ]
  },
  {
   "cell_type": "markdown",
   "metadata": {},
   "source": [
    "## 交差検定\n",
    "実践機械学習すシステムp.151\n",
    "パラメータについて取り得る候補を用意し、その中から交差検定を用いて最適な値を一つ選びだす\n",
    "\n",
    "二段階の交差検定\n",
    "一段回目：汎化能力を評価するため\n",
    "二段階目：最適なパラメータを得るために用いる\n"
   ]
  },
  {
   "cell_type": "code",
   "execution_count": null,
   "metadata": {
    "collapsed": true
   },
   "outputs": [],
   "source": [
    "from sklearn.linear_model from ElasticNetCV\n",
    "met = ElasticNetCV(fit_intercept=True)\n",
    "kf = KFold(len(target), n_folds=10)\n",
    "for train,test in kf:\n",
    "    met.fit(data[train], target[train])\n",
    "    p = map(met.predict , data[test])\n",
    "    p = np.array(p).ravel()\n",
    "    e = p-target[test]\n",
    "    err += np.dot(e,e)\n",
    "rmse_10cv = np.sqrt(err/len(target))"
   ]
  },
  {
   "cell_type": "markdown",
   "metadata": {
    "collapsed": true
   },
   "source": [
    "# データ分析に用いられるスキル、ツールなど\n",
    "\n",
    "## DataUnderstanging~DataPreparationフェーズ\n",
    "- RDBMS\n",
    "- SQL\n",
    "- Hadoop\n",
    "- HDFS(Hadoop Distributed File SYstem)\n",
    "- MapReduce\n",
    "- Hive\n",
    "- pig\n",
    "\n",
    "## Modeling~Evaluation\n",
    "- R,python,Perl\n",
    "- 分散コンピューティング\n",
    "- In-Database処理を行うためにMahout, MADlib\n",
    "- リアルタイム処理にJubatus\n",
    "\n",
    "GUIのツール\n",
    "- SAS\n",
    "- SPSS\n",
    "- KXEN\n",
    "- KNIME\n",
    "\n",
    "# Pyper\n",
    "pythonからR言語を呼び出すライブラリ。\n",
    "\n",
    "- pythonに実装されていないモデルを利用したい時\n",
    "- Rを用いると実装やデータ分析が容易になるとき\n",
    "- Rで開発したモデルをとにかくPythonから利用したい時"
   ]
  },
  {
   "cell_type": "markdown",
   "metadata": {
    "collapsed": true
   },
   "source": [
    "# 未読の参考書籍\n",
    "- データサイエンティスト要請読本　R言語で学ぶ統計解析pp.75-122(マーケティングとデータサイエンス)\n",
    "\n",
    "- http://hirai.me/notes_pyml_04.html#\n",
    "- ★★https://speakerdeck.com/smly/detafen-xi-kontesutofalse-sheng-zhe-jie-da-karaxue-bu\n",
    "\n",
    "# 本\n",
    "http://datascientist.hatenadiary.com/entry/2018/01/12/193206"
   ]
  },
  {
   "cell_type": "code",
   "execution_count": null,
   "metadata": {},
   "outputs": [],
   "source": []
  }
 ],
 "metadata": {
  "kernelspec": {
   "display_name": "Python 3",
   "language": "python",
   "name": "python3"
  },
  "language_info": {
   "codemirror_mode": {
    "name": "ipython",
    "version": 3
   },
   "file_extension": ".py",
   "mimetype": "text/x-python",
   "name": "python",
   "nbconvert_exporter": "python",
   "pygments_lexer": "ipython3",
   "version": "3.6.1"
  },
  "toc": {
   "nav_menu": {},
   "number_sections": true,
   "sideBar": true,
   "skip_h1_title": false,
   "toc_cell": true,
   "toc_position": {},
   "toc_section_display": "block",
   "toc_window_display": false
  }
 },
 "nbformat": 4,
 "nbformat_minor": 2
}
