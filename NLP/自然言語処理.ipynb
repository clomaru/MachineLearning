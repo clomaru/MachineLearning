{
 "cells": [
  {
   "cell_type": "markdown",
   "metadata": {},
   "source": [
    "# 用語\n",
    "\n",
    "\n",
    "## 文章\n",
    "まとまった内容を表す単一または復数の分のこと\n",
    "\n",
    "## 文書\n",
    "## コーパス\n",
    "文書を構造化して集積したテキストデータ\n",
    "\n",
    "## 単語\n",
    "## 表層\n",
    "原文んの記述この事（「食べろ」の表層は「食べろ」)\n",
    "\n",
    "## 原形\n",
    "活用する前の記述のこと。自然言語処理では表記ゆれを防ぐために原形化することが多い(「食べろ」の原形は「食べる」)\n",
    "\n",
    "## 特徴\n",
    "文章から文書から抽出された情報のこと\n",
    "\n",
    "## 辞書"
   ]
  },
  {
   "cell_type": "markdown",
   "metadata": {},
   "source": [
    "# NLPでの特徴量抽出方法\n",
    "## 辞書マッピング\n",
    "\n",
    "## 形態素解析\n",
    "\n",
    "### 形態素解析ツール\n",
    "- MeCab\n",
    " - 言語、辞書、コーパスに依存しない\n",
    "- ChaSen\n",
    "- sudachi\n",
    "- janome\n",
    "- kuromoji\n",
    "\n",
    "\n",
    "### 辞書ツール\n",
    "形態素解析ツールを使った時に登録されていない単語などがあると、本来とは異なった品詞分類になったりする。  \n",
    "「このはちゃん」→「こ」「の」「は」「ちゃん」など。  \n",
    "こういう固有名詞などを登録してある辞書を使う\n",
    "\n",
    "- mecab-ipadic-NEologd\n",
    "LINEが作ってて燃えないゴミの日に更新されている\n",
    "\n",
    "他にもgoogle IMEなどが作ってるやつもある（未調査）\n",
    "\n",
    "\n",
    "\n",
    "\n",
    "\n",
    "## 正規化\n",
    "- 全角半角が混ざっていると意味がとれないので正規化する\n",
    "- 全角英数時を半角に統一\n",
    "- 半角カタカナを全角に統一\n",
    "- 似た文字種の統一(ハイフン、マイナス、改行コードなど)\n",
    "- 不必要なスペースの削除\n",
    "\n",
    "\n",
    "\n",
    "## 固有表現抽出\n",
    "## 固有値、類義語拡張\n",
    "## 係り受け解析"
   ]
  },
  {
   "cell_type": "markdown",
   "metadata": {},
   "source": [
    "# 若干分類先がわからない（下の２つは並列）\n",
    "\n",
    "## SVMの特徴\n",
    "- データの特徴の次元が大きくなっても識別制度がいい\n",
    "- 最適化すべきパラメータが少ない\n",
    "- パラメータの算出が容易\n",
    "\n",
    "\n",
    "## トピックモデル(LDA)\n",
    "- 人手を介さずに、大量の文書集合から、\n",
    "- 文書数が膨大にあるが、トピック数が少ないものに使われる\n",
    "- 学修データ不要\n",
    "- 毎回ラベルを付ける\n",
    "\n"
   ]
  },
  {
   "cell_type": "markdown",
   "metadata": {},
   "source": [
    "# その他メモ\n",
    "Bag of words\n",
    "時系列に依存する情報はトレない\n",
    "東、京都、東京都問題\n",
    "\n",
    "\n",
    "未読\n",
    "https://qiita.com/yura/items/6c1481ca652d3d131e47\n",
    "\n"
   ]
  }
 ],
 "metadata": {
  "kernelspec": {
   "display_name": "Python 3",
   "language": "python",
   "name": "python3"
  },
  "language_info": {
   "codemirror_mode": {
    "name": "ipython",
    "version": 3
   },
   "file_extension": ".py",
   "mimetype": "text/x-python",
   "name": "python",
   "nbconvert_exporter": "python",
   "pygments_lexer": "ipython3",
   "version": "3.5.0"
  },
  "toc": {
   "nav_menu": {},
   "number_sections": true,
   "sideBar": true,
   "skip_h1_title": false,
   "toc_cell": false,
   "toc_position": {},
   "toc_section_display": "block",
   "toc_window_display": false
  }
 },
 "nbformat": 4,
 "nbformat_minor": 2
}
