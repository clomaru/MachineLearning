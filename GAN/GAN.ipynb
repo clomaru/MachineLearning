{
 "cells": [
  {
   "cell_type": "markdown",
   "metadata": {},
   "source": [
    "# GANとは\n",
    "\n",
    "\n"
   ]
  },
  {
   "cell_type": "markdown",
   "metadata": {},
   "source": [
    "# GANについてよくわからないこと\n",
    "\n",
    "- 生成者と識別者のネットワークの繋ぎ方\n",
    "- 生成させるデータの元となるデータ\n",
    "- loss関数の中身の解釈\n",
    "- GAN の種類と使い分け\n",
    "- 学習した生成モデルのコントロール\n",
    " - mnistを学習したが、どうやって\"1\"と\"5\"を書き分ける？\n",
    "- exampleを実行できたが、各行の表す意味\n",
    "- 意味は理解できるが、その記述に至った思考過程"
   ]
  },
  {
   "cell_type": "code",
   "execution_count": null,
   "metadata": {},
   "outputs": [],
   "source": []
  }
 ],
 "metadata": {
  "kernelspec": {
   "display_name": "Python 3",
   "language": "python",
   "name": "python3"
  },
  "language_info": {
   "codemirror_mode": {
    "name": "ipython",
    "version": 3
   },
   "file_extension": ".py",
   "mimetype": "text/x-python",
   "name": "python",
   "nbconvert_exporter": "python",
   "pygments_lexer": "ipython3",
   "version": "3.6.1"
  },
  "toc": {
   "nav_menu": {},
   "number_sections": true,
   "sideBar": true,
   "skip_h1_title": false,
   "toc_cell": false,
   "toc_position": {},
   "toc_section_display": "block",
   "toc_window_display": false
  }
 },
 "nbformat": 4,
 "nbformat_minor": 2
}
