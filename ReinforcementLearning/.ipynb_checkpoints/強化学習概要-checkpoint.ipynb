{
 "cells": [
  {
   "cell_type": "markdown",
   "metadata": {},
   "source": [
    "# 強化学習"
   ]
  },
  {
   "cell_type": "markdown",
   "metadata": {},
   "source": [
    "- 価値関数ベース\n",
    "- 方策関数ベース\n",
    "- モデルベース\n",
    "- 内発的動機づけ"
   ]
  },
  {
   "cell_type": "markdown",
   "metadata": {},
   "source": [
    "## 価値関数ベース\n",
    "\n",
    "- Q学習\n",
    "- DeepQNetwork(2015)\n",
    "- RainBow\n",
    "\n",
    "### デメリット\n",
    "出力actionが離散値のみ対応"
   ]
  },
  {
   "cell_type": "markdown",
   "metadata": {},
   "source": [
    "## 方策関数ベース\n",
    "\n",
    "- (TD学習)\n",
    "\n",
    "- REINFORCE法\n",
    "- Actor-Critic法\n",
    "- TRPO\n",
    "- A3C\n",
    "\n",
    "### メリット\n",
    "actionが連続値でも対応"
   ]
  },
  {
   "cell_type": "markdown",
   "metadata": {},
   "source": [
    "## モデルベース\n",
    "\n",
    "自明な部分な部分をモデル化して、その他わからないところを強化学習する\n",
    "\n",
    "- MPPI (Model Predictive Path Integral)\n",
    " - 加速度のみNNで学習（？）\n",
    "- Value Prediction Network\n",
    " - 状態を抽象化して扱う"
   ]
  },
  {
   "cell_type": "markdown",
   "metadata": {},
   "source": [
    "## 内発的動機づけ(Intrinsic Motivation)\n",
    "\n",
    "- Curiosity-Driven Exploration\n",
    " - 外部報酬無しでスーパーマリオが動く\n",
    " - 新規性を求める好奇心だけで動くagentを作った\n",
    "- Variational Information Maximizing Explorationt (VIME)\n"
   ]
  },
  {
   "cell_type": "markdown",
   "metadata": {},
   "source": [
    "# 気を付ける点\n",
    "\n",
    "1. 探索が足りないと局所最適解に落ちる\n",
    "2. 不確かなときは楽観的に"
   ]
  },
  {
   "cell_type": "markdown",
   "metadata": {},
   "source": [
    "# その他\n",
    "\n",
    "## 模倣学習\n",
    "エキスパート(その学習対象に熟練した人、機械)の行動列を参照して、方策(=policy)を学習する手法の総称のこと。\n",
    "\n",
    "- Dataset Aggregation\n",
    "- 逆強化学習\n",
    " - エキスパートの行動から報酬を推定する\n",
    " 1. 線形計画法を用いた強化学習\n",
    " 2. Maximimum Entropy IRL\n",
    " 3. Maximimum Entropy Deep IRL\n",
    " "
   ]
  }
 ],
 "metadata": {
  "kernelspec": {
   "display_name": "Python 3",
   "language": "python",
   "name": "python3"
  },
  "language_info": {
   "codemirror_mode": {
    "name": "ipython",
    "version": 3
   },
   "file_extension": ".py",
   "mimetype": "text/x-python",
   "name": "python",
   "nbconvert_exporter": "python",
   "pygments_lexer": "ipython3",
   "version": "3.5.0"
  },
  "toc": {
   "nav_menu": {},
   "number_sections": true,
   "sideBar": true,
   "skip_h1_title": false,
   "toc_cell": false,
   "toc_position": {},
   "toc_section_display": "block",
   "toc_window_display": false
  }
 },
 "nbformat": 4,
 "nbformat_minor": 2
}
